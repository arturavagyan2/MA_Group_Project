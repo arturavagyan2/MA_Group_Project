{
  "cells": [
    {
      "cell_type": "code",
      "execution_count": 51,
      "metadata": {},
      "outputs": [
        {
          "name": "stdout",
          "output_type": "stream",
          "text": [
            "200\n",
            "{'message': 'Subscriber added successfully with ID: 101'}\n",
            "{'message': 'Subscriber data updated successfully'}\n",
            "[{'subscriber_id': 101, 'name': 'Hrag', 'email': 'hrag@gmail.com', 'age': 20, 'gender': 'Male', 'location': 'Armenia', 'subscription_start_date': '2024-04-06 22:32:50.928799', 'subscription_end_date': '2024-04-06 22:32:51.952557', 'survival_time': 0.0, 'event_observed': True}]\n"
          ]
        }
      ],
      "source": [
        "import requests\n",
        "import time\n",
        "\n",
        "'''\n",
        "Make sure to test it with the server running. \n",
        "To run the server, navigate to SuRFM/api directory in the terminal, \n",
        "then type \"uvicorn main:app\" without the strings and hit enter.\n",
        "'''\n",
        "\n",
        "base_url = \"http://localhost:8000\"\n",
        "\n",
        "# Test Case 1: Get subscriber information \n",
        "def test_get_subscriber_info(subscriber_id):\n",
        "    response = requests.get(f\"{base_url}/subscriber?id={subscriber_id}\")\n",
        "    print(response.json())\n",
        "    time.sleep(1)\n",
        "\n",
        "# Test Case 2: Add a new subscriber\n",
        "def test_add_subscriber(subscriber_data):\n",
        "    response = requests.post(f\"{base_url}/new_subscriber\", params=subscriber_data)\n",
        "    print(response.status_code)\n",
        "    print(response.json())\n",
        "    time.sleep(1)\n",
        "\n",
        "# Test Case 3: Update subscriber information\n",
        "def test_update_subscriber(subscriber_id, updated_data):\n",
        "    response = requests.put(f\"{base_url}/update_subscriber?Subscriber_ID={subscriber_id}\", params=updated_data)\n",
        "    print(response.json())\n",
        "    time.sleep(1)\n",
        "\n",
        "\n",
        "subscriber_data = {\n",
        "        \"name\": \"Hraaaaaa\",\n",
        "        \"email\": \"hrag@gmail.com\",\n",
        "        \"age\": 20,\n",
        "        \"location\": \"Armenia\",\n",
        "        \"gender\": \"Male\"\n",
        "    }\n",
        "updated_data = {\n",
        "        \"Name\": \"Hrag\",\n",
        "        \"Subscribtion_Ended\": True,\n",
        "        \"Event_Observed\": True\n",
        "    }\n",
        "\n",
        "post = test_add_subscriber(subscriber_data)\n",
        "update = test_update_subscriber(101, updated_data)\n",
        "get = test_get_subscriber_info(101)"
      ]
    }
  ],
  "metadata": {
    "colab": {
      "provenance": []
    },
    "kernelspec": {
      "display_name": "Python 3",
      "language": "python",
      "name": "python3"
    },
    "language_info": {
      "codemirror_mode": {
        "name": "ipython",
        "version": 3
      },
      "file_extension": ".py",
      "mimetype": "text/x-python",
      "name": "python",
      "nbconvert_exporter": "python",
      "pygments_lexer": "ipython3",
      "version": "3.9.7"
    },
    "vscode": {
      "interpreter": {
        "hash": "32e8181fce7c3e359c2790b917cd539742ff129bf629b8ad82002a107951ad4e"
      }
    }
  },
  "nbformat": 4,
  "nbformat_minor": 0
}
