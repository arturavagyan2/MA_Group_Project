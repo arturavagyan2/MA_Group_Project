{
  "cells": [
    {
      "cell_type": "code",
      "execution_count": null,
      "metadata": {
        "id": "-gdcprcRqODi"
      },
      "outputs": [],
      "source": []
    }
  ],
  "metadata": {
    "colab": {
      "provenance": []
    },
    "kernelspec": {
      "display_name": "Python 3",
      "language": "python",
      "name": "python3"
    },
    "language_info": {
      "name": "python",
      "version": "3.12.0"
    },
    "vscode": {
      "interpreter": {
        "hash": "32e8181fce7c3e359c2790b917cd539742ff129bf629b8ad82002a107951ad4e"
      }
    }
  },
  "nbformat": 4,
  "nbformat_minor": 0
}
