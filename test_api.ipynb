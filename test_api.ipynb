{
 "cells": [
  {
   "cell_type": "code",
   "execution_count": 1,
   "metadata": {},
   "outputs": [],
   "source": [
    "from fastapi.testclient import TestClient\n",
    "from SuRFM.api.main import app\n",
    "\n",
    "client = TestClient(app)\n",
    "\n",
    "def add_subscriber(subscriber_data):\n",
    "    try:\n",
    "        response = client.post(\"/new_subscriber\", params=subscriber_data)\n",
    "        print(response.json())\n",
    "        response.raise_for_status()  # Raise an exception for non-200 status codes\n",
    "        return response\n",
    "    except Exception as e:\n",
    "        return e\n",
    "\n",
    "def update_subscriber(subscriber_id, update_data):\n",
    "    try:\n",
    "        response = client.put(f\"/update_subscriber?Subscriber_ID={subscriber_id}\", params=update_data)\n",
    "        response.raise_for_status()\n",
    "        return response\n",
    "    except Exception as e:\n",
    "        return e\n",
    "\n",
    "def get_subscriber_info(subscriber_id):\n",
    "    try:\n",
    "        response = client.get(f\"/subscriber?id={subscriber_id}\")\n",
    "        print(response.json())\n",
    "        response.raise_for_status()\n",
    "        return response\n",
    "    except Exception as e:\n",
    "        return e\n",
    "\n",
    "def delete_subscriber(subscriber_id):\n",
    "    try:\n",
    "        response = client.delete(f\"/delete_subscriber?subscriber_id={subscriber_id}\")\n",
    "        response.raise_for_status()\n",
    "        return response\n",
    "    except Exception as e:\n",
    "        return e"
   ]
  },
  {
   "cell_type": "markdown",
   "metadata": {},
   "source": [
    "Subscriber Data is the information that has to be added to the database. All of the fields are required (name, email, age, location, gender), and the Subscribtion start date is automatically created once the user is added to the database."
   ]
  },
  {
   "cell_type": "code",
   "execution_count": 2,
   "metadata": {},
   "outputs": [
    {
     "name": "stdout",
     "output_type": "stream",
     "text": [
      "{'message': 'Subscriber added successfully with ID: 101'}\n",
      "<Response [200 OK]>\n"
     ]
    }
   ],
   "source": [
    "subscriber_data = {\n",
    "        \"name\": \"John Doe\",\n",
    "        \"email\": \"johndoe@example.com\",\n",
    "        \"age\": 30,\n",
    "        \"location\": \"New York\",\n",
    "        \"gender\": \"Male\"\n",
    "    }\n",
    "\n",
    "print(add_subscriber(subscriber_data))"
   ]
  },
  {
   "cell_type": "markdown",
   "metadata": {},
   "source": [
    "get_subscriber_info takes ID as an argument, and returns the specified subscriber's data."
   ]
  },
  {
   "cell_type": "code",
   "execution_count": 3,
   "metadata": {},
   "outputs": [
    {
     "name": "stdout",
     "output_type": "stream",
     "text": [
      "{'email': 'johndoe@example.com', 'gender': 'Male', 'subscription_start_date': '2024-04-08T18:25:17.348602', 'survival_time': None, 'subscriber_id': 101, 'name': 'John Doe', 'age': 30, 'location': 'New York', 'subscription_end_date': None, 'event_observed': False}\n",
      "<Response [200 OK]>\n"
     ]
    }
   ],
   "source": [
    "print(get_subscriber_info(101))"
   ]
  },
  {
   "cell_type": "markdown",
   "metadata": {},
   "source": [
    "update_subscriber function takes (ID, updated data) as attributes. Updated data contains the information that needs to be updated. In my case, I want to change the name of subscriber with ID=101, and I've put the Subscribtion_Ended True, which will in the database automatically create the end date, and calculate the survival time of the subscriber in days. Event was observed in the subscriber's end period."
   ]
  },
  {
   "cell_type": "code",
   "execution_count": 6,
   "metadata": {},
   "outputs": [
    {
     "name": "stdout",
     "output_type": "stream",
     "text": [
      "<Response [200 OK]>\n"
     ]
    }
   ],
   "source": [
    "\n",
    "updated_data = {\n",
    "        \"Email\": \"hragsoussani@gmail.com\",\n",
    "        \"Subscribtion_Ended\": True,\n",
    "        \"Event_Observed\": True\n",
    "    }\n",
    "\n",
    "print(update_subscriber(101, updated_data))"
   ]
  },
  {
   "cell_type": "markdown",
   "metadata": {},
   "source": [
    "get_subscriber_info takes ID as an argument, and returns the specified subscriber's data."
   ]
  },
  {
   "cell_type": "code",
   "execution_count": 7,
   "metadata": {},
   "outputs": [
    {
     "name": "stdout",
     "output_type": "stream",
     "text": [
      "{'email': 'hragsoussani@gmail.com', 'gender': 'Male', 'subscription_start_date': '2024-04-08T18:25:17.348602', 'survival_time': 0, 'subscriber_id': 101, 'name': 'Hrag Sousani', 'age': 30, 'location': 'New York', 'subscription_end_date': '2024-04-08T18:26:07.470999', 'event_observed': True}\n",
      "<Response [200 OK]>\n"
     ]
    }
   ],
   "source": [
    "print(get_subscriber_info(101))"
   ]
  },
  {
   "cell_type": "markdown",
   "metadata": {},
   "source": [
    "delete_subscriber takes ID as an argument, and returns OK response after deleting the specified subscriber."
   ]
  },
  {
   "cell_type": "code",
   "execution_count": 8,
   "metadata": {},
   "outputs": [
    {
     "name": "stdout",
     "output_type": "stream",
     "text": [
      "<Response [200 OK]>\n"
     ]
    }
   ],
   "source": [
    "print(delete_subscriber(101))"
   ]
  }
 ],
 "metadata": {
  "kernelspec": {
   "display_name": "venv_group6",
   "language": "python",
   "name": "python3"
  },
  "language_info": {
   "codemirror_mode": {
    "name": "ipython",
    "version": 3
   },
   "file_extension": ".py",
   "mimetype": "text/x-python",
   "name": "python",
   "nbconvert_exporter": "python",
   "pygments_lexer": "ipython3",
   "version": "3.9.7"
  }
 },
 "nbformat": 4,
 "nbformat_minor": 2
}
