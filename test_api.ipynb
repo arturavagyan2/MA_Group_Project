{
 "cells": [
  {
   "cell_type": "code",
   "execution_count": 17,
   "metadata": {},
   "outputs": [],
   "source": [
    "from fastapi.testclient import TestClient\n",
    "from SuRFM.api.main import app\n",
    "\n",
    "client = TestClient(app)\n",
    "\n",
    "def add_subscriber(subscriber_data):\n",
    "    try:\n",
    "        response = client.post(\"/new_subscriber\", params=subscriber_data)\n",
    "        print(response.json())\n",
    "        response.raise_for_status()  # Raise an exception for non-200 status codes\n",
    "        return response\n",
    "    except Exception as e:\n",
    "        return e\n",
    "\n",
    "def update_subscriber(subscriber_id, update_data):\n",
    "    try:\n",
    "        response = client.put(f\"/update_subscriber?Subscriber_ID={subscriber_id}\", params=update_data)\n",
    "        response.raise_for_status()\n",
    "        return response\n",
    "    except Exception as e:\n",
    "        return e\n",
    "\n",
    "def get_subscriber_info(subscriber_id):\n",
    "    try:\n",
    "        response = client.get(f\"/subscriber?id={subscriber_id}\")\n",
    "        print(response.json())\n",
    "        response.raise_for_status()\n",
    "        return response\n",
    "    except Exception as e:\n",
    "        return e\n",
    "\n",
    "def delete_subscriber(subscriber_id):\n",
    "    try:\n",
    "        response = client.delete(f\"/delete_subscriber?subscriber_id={subscriber_id}\")\n",
    "        response.raise_for_status()\n",
    "        return response\n",
    "    except Exception as e:\n",
    "        return e\n",
    "    \n",
    "def get_declining_subscribers(from_email=None, send_email=False):\n",
    "    try:\n",
    "        response = client.get(f\"/declining_subscribers?from_email={from_email}, sned_email={send_email}\")\n",
    "        response.raise_for_status()\n",
    "        return response\n",
    "    except Exception as e:\n",
    "        return e\n",
    "    \n",
    "def get_low_value_subscribers():\n",
    "    try:\n",
    "        response = client.get(f\"/low_value_subscribers\")\n",
    "        print(response.json())\n",
    "        response.raise_for_status()\n",
    "        return response\n",
    "    except Exception as e:\n",
    "        return e"
   ]
  },
  {
   "cell_type": "markdown",
   "metadata": {},
   "source": [
    "Subscriber Data is the information that has to be added to the database. All of the fields are required (name, email, age, location, gender), and the Subscribtion start date is automatically created once the user is added to the database."
   ]
  },
  {
   "cell_type": "code",
   "execution_count": 3,
   "metadata": {},
   "outputs": [
    {
     "name": "stdout",
     "output_type": "stream",
     "text": [
      "{'message': 'Subscriber added successfully with ID: 101'}\n",
      "<Response [200 OK]>\n"
     ]
    }
   ],
   "source": [
    "subscriber_data = {\n",
    "        \"name\": \"John Doe\",\n",
    "        \"email\": \"johndoe@example.com\",\n",
    "        \"age\": 30,\n",
    "        \"location\": \"New York\",\n",
    "        \"gender\": \"Male\"\n",
    "    }\n",
    "\n",
    "print(add_subscriber(subscriber_data))"
   ]
  },
  {
   "cell_type": "markdown",
   "metadata": {},
   "source": [
    "get_subscriber_info takes ID as an argument, and returns the specified subscriber's data."
   ]
  },
  {
   "cell_type": "code",
   "execution_count": 4,
   "metadata": {},
   "outputs": [
    {
     "name": "stdout",
     "output_type": "stream",
     "text": [
      "{'subscriber_id': 101, 'name': 'John Doe', 'age': 30, 'gender': 'Male', 'subscription_start_date': '2024-05-10T12:13:39.317870', 'survival_time': None, 'email_sent': None, 'email': 'johndoe@example.com', 'location': 'New York', 'subscription_end_date': None, 'event_observed': False}\n",
      "<Response [200 OK]>\n"
     ]
    }
   ],
   "source": [
    "print(get_subscriber_info(101))"
   ]
  },
  {
   "cell_type": "markdown",
   "metadata": {},
   "source": [
    "update_subscriber function takes (ID, updated data) as attributes. Updated data contains the information that needs to be updated. In my case, I want to change the name of subscriber with ID=101, and I've put the Subscribtion_Ended True, which will in the database automatically create the end date, and calculate the survival time of the subscriber in days. Event was observed in the subscriber's end period."
   ]
  },
  {
   "cell_type": "code",
   "execution_count": 8,
   "metadata": {},
   "outputs": [
    {
     "name": "stdout",
     "output_type": "stream",
     "text": [
      "<Response [200 OK]>\n"
     ]
    }
   ],
   "source": [
    "\n",
    "updated_data = {\n",
    "        \"Email\": \"hragsoussani@gmail.com\",\n",
    "        \"Subscribtion_Ended\": True,\n",
    "        \"Event_Observed\": 1\n",
    "    }\n",
    "\n",
    "print(update_subscriber(101, updated_data))"
   ]
  },
  {
   "cell_type": "markdown",
   "metadata": {},
   "source": [
    "get_subscriber_info takes ID as an argument, and returns the specified subscriber's data."
   ]
  },
  {
   "cell_type": "code",
   "execution_count": 9,
   "metadata": {},
   "outputs": [
    {
     "name": "stdout",
     "output_type": "stream",
     "text": [
      "{'subscriber_id': 101, 'name': 'John Doe', 'age': 30, 'gender': 'Male', 'subscription_start_date': '2024-05-10T12:13:39.317870', 'survival_time': 0, 'email_sent': None, 'email': 'hragsoussani@gmail.com', 'location': 'New York', 'subscription_end_date': '2024-05-10T12:15:28.839911', 'event_observed': True}\n",
      "<Response [200 OK]>\n"
     ]
    }
   ],
   "source": [
    "print(get_subscriber_info(101))"
   ]
  },
  {
   "cell_type": "markdown",
   "metadata": {},
   "source": [
    "delete_subscriber takes ID as an argument, and returns OK response after deleting the specified subscriber."
   ]
  },
  {
   "cell_type": "code",
   "execution_count": 10,
   "metadata": {},
   "outputs": [
    {
     "name": "stdout",
     "output_type": "stream",
     "text": [
      "<Response [200 OK]>\n"
     ]
    }
   ],
   "source": [
    "print(delete_subscriber(101))"
   ]
  },
  {
   "cell_type": "markdown",
   "metadata": {},
   "source": [
    "get_declining_subscribers takes from_email (str) (optional), send_email (bool) (optional) as arguments, and returns the list of declining subscribers who are in low subscriber segments. In case of adding from_email and send_email, sends emails to subscribers in the list."
   ]
  },
  {
   "cell_type": "code",
   "execution_count": 11,
   "metadata": {},
   "outputs": [
    {
     "name": "stderr",
     "output_type": "stream",
     "text": [
      "\u001b[38;5;183m2024-05-10 12:15:44,862 - sql_handler.py - close_cnxn - INFO - (Committing the changes) - line: 43\u001b[0m\n",
      "\u001b[38;5;183m2024-05-10 12:15:44,863 - sql_handler.py - close_cnxn - INFO - (The connection has been closed) - line: 46\u001b[0m\n",
      "\u001b[38;5;183m2024-05-10 12:15:44,868 - sql_handler.py - close_cnxn - INFO - (Committing the changes) - line: 43\u001b[0m\n",
      "\u001b[38;5;183m2024-05-10 12:15:44,869 - sql_handler.py - close_cnxn - INFO - (The connection has been closed) - line: 46\u001b[0m\n",
      "\u001b[38;5;183m2024-05-10 12:15:44,872 - sql_handler.py - close_cnxn - INFO - (Committing the changes) - line: 43\u001b[0m\n",
      "\u001b[38;5;183m2024-05-10 12:15:44,873 - sql_handler.py - close_cnxn - INFO - (The connection has been closed) - line: 46\u001b[0m\n",
      "\u001b[38;5;183m2024-05-10 12:15:44,878 - sql_handler.py - close_cnxn - INFO - (Committing the changes) - line: 43\u001b[0m\n",
      "\u001b[38;5;183m2024-05-10 12:15:44,879 - sql_handler.py - close_cnxn - INFO - (The connection has been closed) - line: 46\u001b[0m\n",
      "\u001b[38;5;183m2024-05-10 12:15:44,880 - sql_handler.py - close_cnxn - INFO - (Committing the changes) - line: 43\u001b[0m\n",
      "\u001b[38;5;183m2024-05-10 12:15:44,881 - sql_handler.py - close_cnxn - INFO - (The connection has been closed) - line: 46\u001b[0m\n",
      "\u001b[38;5;183m2024-05-10 12:15:44,883 - sql_handler.py - close_cnxn - INFO - (Committing the changes) - line: 43\u001b[0m\n",
      "\u001b[38;5;183m2024-05-10 12:15:44,884 - sql_handler.py - close_cnxn - INFO - (The connection has been closed) - line: 46\u001b[0m\n",
      "\u001b[38;5;183m2024-05-10 12:15:44,886 - sql_handler.py - close_cnxn - INFO - (Committing the changes) - line: 43\u001b[0m\n",
      "\u001b[38;5;183m2024-05-10 12:15:44,887 - sql_handler.py - close_cnxn - INFO - (The connection has been closed) - line: 46\u001b[0m\n",
      "\u001b[38;5;183m2024-05-10 12:15:44,889 - sql_handler.py - close_cnxn - INFO - (Committing the changes) - line: 43\u001b[0m\n",
      "\u001b[38;5;183m2024-05-10 12:15:44,891 - sql_handler.py - close_cnxn - INFO - (The connection has been closed) - line: 46\u001b[0m\n",
      "\u001b[38;5;183m2024-05-10 12:15:44,894 - sql_handler.py - close_cnxn - INFO - (Committing the changes) - line: 43\u001b[0m\n",
      "\u001b[38;5;183m2024-05-10 12:15:44,895 - sql_handler.py - close_cnxn - INFO - (The connection has been closed) - line: 46\u001b[0m\n",
      "\u001b[38;5;183m2024-05-10 12:15:44,897 - sql_handler.py - close_cnxn - INFO - (Committing the changes) - line: 43\u001b[0m\n",
      "\u001b[38;5;183m2024-05-10 12:15:44,898 - sql_handler.py - close_cnxn - INFO - (The connection has been closed) - line: 46\u001b[0m\n",
      "\u001b[38;5;183m2024-05-10 12:15:44,901 - sql_handler.py - close_cnxn - INFO - (Committing the changes) - line: 43\u001b[0m\n",
      "\u001b[38;5;183m2024-05-10 12:15:44,903 - sql_handler.py - close_cnxn - INFO - (The connection has been closed) - line: 46\u001b[0m\n",
      "\u001b[38;5;183m2024-05-10 12:15:44,906 - sql_handler.py - close_cnxn - INFO - (Committing the changes) - line: 43\u001b[0m\n",
      "\u001b[38;5;183m2024-05-10 12:15:44,908 - sql_handler.py - close_cnxn - INFO - (The connection has been closed) - line: 46\u001b[0m\n",
      "\u001b[38;5;183m2024-05-10 12:15:44,911 - sql_handler.py - close_cnxn - INFO - (Committing the changes) - line: 43\u001b[0m\n",
      "\u001b[38;5;183m2024-05-10 12:15:44,913 - sql_handler.py - close_cnxn - INFO - (The connection has been closed) - line: 46\u001b[0m\n",
      "\u001b[38;5;183m2024-05-10 12:15:44,916 - sql_handler.py - close_cnxn - INFO - (Committing the changes) - line: 43\u001b[0m\n",
      "\u001b[38;5;183m2024-05-10 12:15:44,917 - sql_handler.py - close_cnxn - INFO - (The connection has been closed) - line: 46\u001b[0m\n",
      "\u001b[38;5;183m2024-05-10 12:15:44,919 - sql_handler.py - close_cnxn - INFO - (Committing the changes) - line: 43\u001b[0m\n",
      "\u001b[38;5;183m2024-05-10 12:15:44,920 - sql_handler.py - close_cnxn - INFO - (The connection has been closed) - line: 46\u001b[0m\n",
      "\u001b[38;5;183m2024-05-10 12:15:44,923 - sql_handler.py - close_cnxn - INFO - (Committing the changes) - line: 43\u001b[0m\n",
      "\u001b[38;5;183m2024-05-10 12:15:44,925 - sql_handler.py - close_cnxn - INFO - (The connection has been closed) - line: 46\u001b[0m\n",
      "\u001b[38;5;183m2024-05-10 12:15:44,932 - sql_handler.py - close_cnxn - INFO - (Committing the changes) - line: 43\u001b[0m\n",
      "\u001b[38;5;183m2024-05-10 12:15:44,933 - sql_handler.py - close_cnxn - INFO - (The connection has been closed) - line: 46\u001b[0m\n",
      "\u001b[38;5;183m2024-05-10 12:15:44,936 - sql_handler.py - close_cnxn - INFO - (Committing the changes) - line: 43\u001b[0m\n",
      "\u001b[38;5;183m2024-05-10 12:15:44,938 - sql_handler.py - close_cnxn - INFO - (The connection has been closed) - line: 46\u001b[0m\n",
      "\u001b[38;5;183m2024-05-10 12:15:44,943 - sql_handler.py - close_cnxn - INFO - (Committing the changes) - line: 43\u001b[0m\n",
      "\u001b[38;5;183m2024-05-10 12:15:44,944 - sql_handler.py - close_cnxn - INFO - (The connection has been closed) - line: 46\u001b[0m\n",
      "\u001b[38;5;183m2024-05-10 12:15:44,947 - sql_handler.py - close_cnxn - INFO - (Committing the changes) - line: 43\u001b[0m\n",
      "\u001b[38;5;183m2024-05-10 12:15:44,948 - sql_handler.py - close_cnxn - INFO - (The connection has been closed) - line: 46\u001b[0m\n",
      "\u001b[38;5;183m2024-05-10 12:15:44,956 - sql_handler.py - close_cnxn - INFO - (Committing the changes) - line: 43\u001b[0m\n",
      "\u001b[38;5;183m2024-05-10 12:15:44,960 - sql_handler.py - close_cnxn - INFO - (The connection has been closed) - line: 46\u001b[0m\n",
      "\u001b[38;5;183m2024-05-10 12:15:44,965 - sql_handler.py - close_cnxn - INFO - (Committing the changes) - line: 43\u001b[0m\n",
      "\u001b[38;5;183m2024-05-10 12:15:44,968 - sql_handler.py - close_cnxn - INFO - (The connection has been closed) - line: 46\u001b[0m\n",
      "\u001b[38;5;183m2024-05-10 12:15:44,971 - sql_handler.py - close_cnxn - INFO - (Committing the changes) - line: 43\u001b[0m\n",
      "\u001b[38;5;183m2024-05-10 12:15:44,974 - sql_handler.py - close_cnxn - INFO - (The connection has been closed) - line: 46\u001b[0m\n",
      "\u001b[38;5;183m2024-05-10 12:15:44,976 - sql_handler.py - close_cnxn - INFO - (Committing the changes) - line: 43\u001b[0m\n",
      "\u001b[38;5;183m2024-05-10 12:15:44,978 - sql_handler.py - close_cnxn - INFO - (The connection has been closed) - line: 46\u001b[0m\n",
      "\u001b[38;5;183m2024-05-10 12:15:44,982 - sql_handler.py - close_cnxn - INFO - (Committing the changes) - line: 43\u001b[0m\n",
      "\u001b[38;5;183m2024-05-10 12:15:44,985 - sql_handler.py - close_cnxn - INFO - (The connection has been closed) - line: 46\u001b[0m\n",
      "\u001b[38;5;183m2024-05-10 12:15:44,988 - sql_handler.py - close_cnxn - INFO - (Committing the changes) - line: 43\u001b[0m\n",
      "\u001b[38;5;183m2024-05-10 12:15:44,989 - sql_handler.py - close_cnxn - INFO - (The connection has been closed) - line: 46\u001b[0m\n",
      "\u001b[38;5;183m2024-05-10 12:15:44,991 - sql_handler.py - close_cnxn - INFO - (Committing the changes) - line: 43\u001b[0m\n",
      "\u001b[38;5;183m2024-05-10 12:15:44,993 - sql_handler.py - close_cnxn - INFO - (The connection has been closed) - line: 46\u001b[0m\n",
      "\u001b[38;5;183m2024-05-10 12:15:44,997 - sql_handler.py - close_cnxn - INFO - (Committing the changes) - line: 43\u001b[0m\n",
      "\u001b[38;5;183m2024-05-10 12:15:44,999 - sql_handler.py - close_cnxn - INFO - (The connection has been closed) - line: 46\u001b[0m\n",
      "\u001b[38;5;183m2024-05-10 12:15:45,005 - sql_handler.py - close_cnxn - INFO - (Committing the changes) - line: 43\u001b[0m\n",
      "\u001b[38;5;183m2024-05-10 12:15:45,007 - sql_handler.py - close_cnxn - INFO - (The connection has been closed) - line: 46\u001b[0m\n",
      "\u001b[38;5;183m2024-05-10 12:15:45,025 - sql_handler.py - close_cnxn - INFO - (Committing the changes) - line: 43\u001b[0m\n",
      "\u001b[38;5;183m2024-05-10 12:15:45,029 - sql_handler.py - close_cnxn - INFO - (The connection has been closed) - line: 46\u001b[0m\n",
      "\u001b[38;5;183m2024-05-10 12:15:45,033 - sql_handler.py - close_cnxn - INFO - (Committing the changes) - line: 43\u001b[0m\n",
      "\u001b[38;5;183m2024-05-10 12:15:45,035 - sql_handler.py - close_cnxn - INFO - (The connection has been closed) - line: 46\u001b[0m\n",
      "\u001b[38;5;183m2024-05-10 12:15:45,038 - sql_handler.py - close_cnxn - INFO - (Committing the changes) - line: 43\u001b[0m\n",
      "\u001b[38;5;183m2024-05-10 12:15:45,040 - sql_handler.py - close_cnxn - INFO - (The connection has been closed) - line: 46\u001b[0m\n",
      "\u001b[38;5;183m2024-05-10 12:15:45,048 - sql_handler.py - close_cnxn - INFO - (Committing the changes) - line: 43\u001b[0m\n",
      "\u001b[38;5;183m2024-05-10 12:15:45,049 - sql_handler.py - close_cnxn - INFO - (The connection has been closed) - line: 46\u001b[0m\n",
      "\u001b[38;5;183m2024-05-10 12:15:45,051 - sql_handler.py - close_cnxn - INFO - (Committing the changes) - line: 43\u001b[0m\n",
      "\u001b[38;5;183m2024-05-10 12:15:45,053 - sql_handler.py - close_cnxn - INFO - (The connection has been closed) - line: 46\u001b[0m\n"
     ]
    },
    {
     "name": "stdout",
     "output_type": "stream",
     "text": [
      "[{'subscriber_id': 35, 'recency_score': 1.05, 'frequency_score': 2.79, 'monetary_score': 1.53, 'Segment': 'Low'}, {'subscriber_id': 54, 'recency_score': 2.96, 'frequency_score': 1.19, 'monetary_score': 2.38, 'Segment': 'Low'}, {'subscriber_id': 5, 'recency_score': 1.5, 'frequency_score': 1.86, 'monetary_score': 2.66, 'Segment': 'Low'}, {'subscriber_id': 23, 'recency_score': 2.36, 'frequency_score': 1.83, 'monetary_score': 2.24, 'Segment': 'Low'}, {'subscriber_id': 44, 'recency_score': 2.68, 'frequency_score': 2.82, 'monetary_score': 2.32, 'Segment': 'Low'}, {'subscriber_id': 87, 'recency_score': 1.86, 'frequency_score': 2.42, 'monetary_score': 3.45, 'Segment': 'Low'}, {'subscriber_id': 52, 'recency_score': 3.98, 'frequency_score': 1.16, 'monetary_score': 2.31, 'Segment': 'Low'}, {'subscriber_id': 37, 'recency_score': 2.11, 'frequency_score': 3.46, 'monetary_score': 2.19, 'Segment': 'Low'}, {'subscriber_id': 86, 'recency_score': 1.93, 'frequency_score': 1.56, 'monetary_score': 3.79, 'Segment': 'Low'}, {'subscriber_id': 88, 'recency_score': 1.29, 'frequency_score': 2.81, 'monetary_score': 3.14, 'Segment': 'Low'}, {'subscriber_id': 42, 'recency_score': 2.67, 'frequency_score': 1.31, 'monetary_score': 1.08, 'Segment': 'Low'}, {'subscriber_id': 44, 'recency_score': 1.01, 'frequency_score': 3.66, 'monetary_score': 2.58, 'Segment': 'Low'}, {'subscriber_id': 63, 'recency_score': 1.28, 'frequency_score': 1.1, 'monetary_score': 3.72, 'Segment': 'Low'}, {'subscriber_id': 1, 'recency_score': 2.83, 'frequency_score': 3.57, 'monetary_score': 1.54, 'Segment': 'Low'}, {'subscriber_id': 16, 'recency_score': 1.66, 'frequency_score': 4.72, 'monetary_score': 1.3, 'Segment': 'Low'}, {'subscriber_id': 29, 'recency_score': 1.03, 'frequency_score': 1.79, 'monetary_score': 2.53, 'Segment': 'Low'}, {'subscriber_id': 98, 'recency_score': 1.8, 'frequency_score': 1.1, 'monetary_score': 2.77, 'Segment': 'Low'}, {'subscriber_id': 71, 'recency_score': 2.37, 'frequency_score': 3.89, 'monetary_score': 1.03, 'Segment': 'Low'}, {'subscriber_id': 8, 'recency_score': 1.97, 'frequency_score': 3.07, 'monetary_score': 1.81, 'Segment': 'Low'}, {'subscriber_id': 47, 'recency_score': 1.74, 'frequency_score': 2.64, 'monetary_score': 3.0, 'Segment': 'Low'}, {'subscriber_id': 43, 'recency_score': 2.06, 'frequency_score': 1.81, 'monetary_score': 1.97, 'Segment': 'Low'}, {'subscriber_id': 11, 'recency_score': 1.38, 'frequency_score': 3.35, 'monetary_score': 2.33, 'Segment': 'Low'}, {'subscriber_id': 36, 'recency_score': 4.54, 'frequency_score': 2.09, 'monetary_score': 1.25, 'Segment': 'Low'}, {'subscriber_id': 95, 'recency_score': 3.18, 'frequency_score': 1.27, 'monetary_score': 1.1, 'Segment': 'Low'}, {'subscriber_id': 56, 'recency_score': 3.11, 'frequency_score': 1.87, 'monetary_score': 1.96, 'Segment': 'Low'}, {'subscriber_id': 55, 'recency_score': 1.96, 'frequency_score': 3.32, 'monetary_score': 1.87, 'Segment': 'Low'}, {'subscriber_id': 68, 'recency_score': 4.26, 'frequency_score': 1.14, 'monetary_score': 1.4, 'Segment': 'Low'}, {'subscriber_id': 64, 'recency_score': 2.46, 'frequency_score': 2.84, 'monetary_score': 1.45, 'Segment': 'Low'}, {'subscriber_id': 56, 'recency_score': 2.02, 'frequency_score': 1.74, 'monetary_score': 3.63, 'Segment': 'Low'}, {'subscriber_id': 82, 'recency_score': 1.57, 'frequency_score': 3.13, 'monetary_score': 2.24, 'Segment': 'Low'}, {'subscriber_id': 10, 'recency_score': 3.08, 'frequency_score': 3.09, 'monetary_score': 1.21, 'Segment': 'Low'}, {'subscriber_id': 34, 'recency_score': 2.93, 'frequency_score': 3.36, 'monetary_score': 1.13, 'Segment': 'Low'}, {'subscriber_id': 71, 'recency_score': 1.35, 'frequency_score': 1.07, 'monetary_score': 4.58, 'Segment': 'Low'}]\n",
      "<Response [200 OK]>\n"
     ]
    }
   ],
   "source": [
    "print(get_declining_subscribers())"
   ]
  },
  {
   "cell_type": "markdown",
   "metadata": {},
   "source": [
    "get_low_value_subscribers returns a list of low value customers whos CLV value is lower than the median of the CLV data."
   ]
  },
  {
   "cell_type": "code",
   "execution_count": 18,
   "metadata": {},
   "outputs": [
    {
     "name": "stderr",
     "output_type": "stream",
     "text": [
      "\u001b[38;5;183m2024-05-10 12:18:07,814 - sql_handler.py - close_cnxn - INFO - (Committing the changes) - line: 43\u001b[0m\n",
      "\u001b[38;5;183m2024-05-10 12:18:07,816 - sql_handler.py - close_cnxn - INFO - (The connection has been closed) - line: 46\u001b[0m\n"
     ]
    },
    {
     "name": "stdout",
     "output_type": "stream",
     "text": [
      "{'low_value_subscribers': [{'subscriber_id': 9, 'clv_value': 3599.56}, {'subscriber_id': 10, 'clv_value': 5465.99}, {'subscriber_id': 10, 'clv_value': 1112.38}, {'subscriber_id': 12, 'clv_value': 5198.91}, {'subscriber_id': 13, 'clv_value': 4449.17}, {'subscriber_id': 15, 'clv_value': 5439.42}, {'subscriber_id': 16, 'clv_value': 5190.27}, {'subscriber_id': 18, 'clv_value': 1473.66}, {'subscriber_id': 18, 'clv_value': 1890.26}, {'subscriber_id': 21, 'clv_value': 3977.65}, {'subscriber_id': 21, 'clv_value': 1781.66}, {'subscriber_id': 22, 'clv_value': 3934.48}, {'subscriber_id': 25, 'clv_value': 3615.4}, {'subscriber_id': 27, 'clv_value': 2187.88}, {'subscriber_id': 28, 'clv_value': 5800.93}, {'subscriber_id': 31, 'clv_value': 5327.61}, {'subscriber_id': 31, 'clv_value': 5837.07}, {'subscriber_id': 38, 'clv_value': 5134.77}, {'subscriber_id': 39, 'clv_value': 5912.05}, {'subscriber_id': 45, 'clv_value': 3617.34}, {'subscriber_id': 45, 'clv_value': 3458.93}, {'subscriber_id': 46, 'clv_value': 2770.2}, {'subscriber_id': 50, 'clv_value': 2695.77}, {'subscriber_id': 50, 'clv_value': 2897.39}, {'subscriber_id': 50, 'clv_value': 4549.82}, {'subscriber_id': 50, 'clv_value': 5210.41}, {'subscriber_id': 51, 'clv_value': 5802.96}, {'subscriber_id': 51, 'clv_value': 2242.82}, {'subscriber_id': 53, 'clv_value': 4500.58}, {'subscriber_id': 55, 'clv_value': 1716.49}, {'subscriber_id': 59, 'clv_value': 3865.37}, {'subscriber_id': 61, 'clv_value': 5026.83}, {'subscriber_id': 63, 'clv_value': 3765.87}, {'subscriber_id': 66, 'clv_value': 4240.33}, {'subscriber_id': 67, 'clv_value': 4834.68}, {'subscriber_id': 70, 'clv_value': 1677.7}, {'subscriber_id': 72, 'clv_value': 3460.2}, {'subscriber_id': 72, 'clv_value': 4255.69}, {'subscriber_id': 77, 'clv_value': 1169.85}, {'subscriber_id': 78, 'clv_value': 5161.85}, {'subscriber_id': 83, 'clv_value': 2776.33}, {'subscriber_id': 83, 'clv_value': 4343.88}, {'subscriber_id': 84, 'clv_value': 2263.76}, {'subscriber_id': 90, 'clv_value': 2495.34}, {'subscriber_id': 93, 'clv_value': 3494.1}, {'subscriber_id': 93, 'clv_value': 2914.11}, {'subscriber_id': 95, 'clv_value': 3850.41}, {'subscriber_id': 97, 'clv_value': 2643.59}, {'subscriber_id': 98, 'clv_value': 2760.02}, {'subscriber_id': 100, 'clv_value': 1257.73}]}\n",
      "<Response [200 OK]>\n"
     ]
    }
   ],
   "source": [
    "print(get_low_value_subscribers())"
   ]
  }
 ],
 "metadata": {
  "kernelspec": {
   "display_name": "Python 3",
   "language": "python",
   "name": "python3"
  },
  "language_info": {
   "codemirror_mode": {
    "name": "ipython",
    "version": 3
   },
   "file_extension": ".py",
   "mimetype": "text/x-python",
   "name": "python",
   "nbconvert_exporter": "python",
   "pygments_lexer": "ipython3",
   "version": "3.9.7"
  },
  "vscode": {
   "interpreter": {
    "hash": "32e8181fce7c3e359c2790b917cd539742ff129bf629b8ad82002a107951ad4e"
   }
  }
 },
 "nbformat": 4,
 "nbformat_minor": 2
}
